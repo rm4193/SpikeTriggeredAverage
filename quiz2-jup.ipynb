{
 "cells": [
  {
   "cell_type": "code",
   "execution_count": 31,
   "metadata": {},
   "outputs": [],
   "source": [
    "# calculating the spike triggered average is an example of a feature to use\n",
    "\n",
    "def compute_sta(stim, rho, num_timesteps):\n",
    "    \"\"\"Compute the spike-triggered average from a stimulus and spike-train.\n",
    "    \n",
    "    Args:\n",
    "        stim: stimulus time-series\n",
    "        rho: spike-train time-series\n",
    "        num_timesteps: how many timesteps to use in STA\n",
    "        \n",
    "    Returns:\n",
    "        spike-triggered average for num_timesteps timesteps before spike\"\"\"\n",
    "    \n",
    "    # rho is the vector showing if there was a spike (1) or not (0)\n",
    "    \n",
    "    sta = np.zeros((num_timesteps,)) # check what happens without the comma\n",
    "\n",
    "    # This command finds the indices of all of the spikes that occur\n",
    "    # after 300 ms into the recording.\n",
    "    spike_times = rho[num_timesteps:].nonzero()[0] + num_timesteps # this is array of spike times, need to understand this more\n",
    "\n",
    "    # Fill in this value. Note that you should not count spikes that occur\n",
    "    # before 300 ms into the recording.\n",
    "\n",
    "    num_spikes = len(spike_times) # outputs the number of spikes\n",
    "    print(num_spikes)\n",
    "    \n",
    "\n",
    "    # Compute the spike-triggered average of the spikes found.\n",
    "    # To do this, compute the average of all of the vectors\n",
    "    # starting 300 ms (exclusive) before a spike and ending at the time of\n",
    "    # the event (inclusive). Each of these vectors defines a list of\n",
    "    # samples that is contained within a window of 300 ms before each\n",
    "    # spike. The average of these vectors should be completed in an\n",
    "    # element-wise manner.\n",
    "    # \n",
    "    # Your code goes here:\n",
    "    \n",
    "    for i in spike_times:\n",
    "        sta = sta + stim[i-num_timesteps:i]\n",
    "    \n",
    "    sta = sta/num_spikes\n",
    "    \n",
    "    return sta"
   ]
  },
  {
   "cell_type": "code",
   "execution_count": 35,
   "metadata": {},
   "outputs": [
    {
     "name": "stdout",
     "output_type": "stream",
     "text": [
      "53583\n"
     ]
    },
    {
     "data": {
      "image/png": "[encoded data removed]",
      "text/plain": [
       "<Figure size 432x288 with 1 Axes>"
      ]
     },
     "metadata": {
      "needs_background": "light"
     },
     "output_type": "display_data"
    }
   ],
   "source": [
    "\"\"\"\n",
    "Created on Wed Apr 22 15:15:16 2015\n",
    "\n",
    "Quiz 2 code.\n",
    "\"\"\"\n",
    "\n",
    "from __future__ import division\n",
    "import numpy as np\n",
    "import matplotlib.pyplot as plt\n",
    "\n",
    "# importing package to opening pickle file\n",
    "import pickle\n",
    "\n",
    "FILENAME = 'c1p8.pickle'\n",
    "\n",
    "# opening pickle file\n",
    "with open(FILENAME, 'rb') as f:\n",
    "    data = pickle.load(f)\n",
    "\n",
    "stim = data['stim']\n",
    "rho = data['rho']\n",
    "\n",
    "\n",
    "# Fill in these values\n",
    "time_window = 300\n",
    "sampling_period = 1000*(1/500) # in ms - the sampling rate was 500 Hz\n",
    "num_timesteps = int(time_window/sampling_period) # if response window to check is 300 ms, and the sampling period is 2 ms, then number of steps in the window is 150\n",
    "\n",
    "sta = compute_sta(stim, rho, num_timesteps) # spike triggered average vector\n",
    "\n",
    "time = (np.arange(-num_timesteps, 0) + 1) * sampling_period # time plot\n",
    "\n",
    "plt.plot(time, sta)\n",
    "plt.xlabel('Time (ms)')\n",
    "plt.ylabel('Stimulus')\n",
    "plt.title('Spike-Triggered Average')\n",
    "\n",
    "plt.show()\n"
   ]
  },
  {
   "cell_type": "code",
   "execution_count": 36,
   "metadata": {},
   "outputs": [
    {
     "name": "stdout",
     "output_type": "stream",
     "text": [
      "53601\n",
      "600000\n"
     ]
    }
   ],
   "source": [
    "# this checks if there are spikes in the data set\n",
    "c = 0\n",
    "for i in range(len(data['rho'])):\n",
    "    if data['rho'][i] == 1:\n",
    "        c = c+1\n",
    "\n",
    "print(c) # the number of spikes\n",
    "print(len(data['rho'])) # number of total recordings\n"
   ]
  },
  {
   "cell_type": "code",
   "execution_count": null,
   "metadata": {},
   "outputs": [],
   "source": []
  }
 ],
 "metadata": {
  "kernelspec": {
   "display_name": "Python 3",
   "language": "python",
   "name": "python3"
  },
  "language_info": {
   "codemirror_mode": {
    "name": "ipython",
    "version": 3
   },
   "file_extension": ".py",
   "mimetype": "text/x-python",
   "name": "python",
   "nbconvert_exporter": "python",
   "pygments_lexer": "ipython3",
   "version": "3.7.3"
  }
 },
 "nbformat": 4,
 "nbformat_minor": 2
}
